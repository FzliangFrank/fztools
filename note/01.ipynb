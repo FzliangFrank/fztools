{
 "cells": [
  {
   "cell_type": "markdown",
   "metadata": {},
   "source": [
    "---\n",
    "title: \"Debut Fztools\"\n",
    "format: html\n",
    "date: 2025-05-07\n",
    "draft: true\n",
    "---"
   ]
  },
  {
   "cell_type": "markdown",
   "metadata": {},
   "source": [
    "## Manage Namespaces with `StageManager`\n"
   ]
  },
  {
   "cell_type": "markdown",
   "metadata": {},
   "source": [
    "### Register Function based on their destiny\n",
    "\n",
    "Tidy up your function by decorating them with namespaces, so you know which variable goes to which."
   ]
  },
  {
   "cell_type": "code",
   "execution_count": 1,
   "metadata": {},
   "outputs": [],
   "source": [
    "from fztools import StageManager\n",
    "\n",
    "stage1 = StageManager(name=\"stage1\")\n",
    "stage2 = StageManager(name=\"stage2\")\n",
    "\n",
    "input_dict = {\n",
    "    \"A\": 1,\n",
    "    \"B\": 2,\n",
    "}\n",
    "\n",
    "@stage1.register(\"A\")\n",
    "def plus_one(a):\n",
    "    return a + 1\n",
    "\n",
    "@stage1.register(\"B\")\n",
    "def power_two(b):\n",
    "    return b ** 2\n",
    "\n",
    "@stage2.register(\"C\", [\"A\", \"B\"])\n",
    "def sum_all(a, b):\n",
    "    return a + b"
   ]
  },
  {
   "cell_type": "markdown",
   "metadata": {},
   "source": [
    "### Add input data and assemble chain\n",
    "\n",
    "You can reuse the same variable over and over, they mean different thing in different stage;"
   ]
  },
  {
   "cell_type": "code",
   "execution_count": 2,
   "metadata": {},
   "outputs": [
    {
     "data": {
      "text/plain": [
       "StageChain(stage1(1) >> stage2(2))"
      ]
     },
     "execution_count": 2,
     "metadata": {},
     "output_type": "execute_result"
    }
   ],
   "source": [
    "stage1.input = input_dict\n",
    "chain = stage1 >> stage2\n",
    "chain.invoke()"
   ]
  },
  {
   "cell_type": "markdown",
   "metadata": {},
   "source": [
    "### Display dependency diagram\n",
    "\n",
    "Create a dependency diagram of all your variables;"
   ]
  },
  {
   "cell_type": "code",
   "execution_count": 3,
   "metadata": {},
   "outputs": [
    {
     "data": {
      "text/html": [
       "\n",
       "<!doctype html>\n",
       "<html>\n",
       "\n",
       "<body>\n",
       "<pre class=\"mermaid\">\n",
       "    \n",
       "flowchart LR\n",
       "    subgraph e8a02776-4835-4803-b130-f36fa24bcab2 [stage1]\n",
       "\t0(\"plus_one\")\n",
       "\t1(\"power_two\")\n",
       "\t5[/\"A\"/]\n",
       "\t6[/\"B\"/]\n",
       "\tend\n",
       "\tsubgraph f4221c80-ca3c-427b-b938-2f2389105e49 [stage2]\n",
       "\t2(\"sum_all\")\n",
       "\t7[/\"C\"/]\n",
       "\tend\n",
       "\tsubgraph 177f4780-08c1-46fe-a97d-029d09f6a492 [input]\n",
       "\t3[/\"A\"/]\n",
       "\t4[/\"B\"/]\n",
       "\tend\n",
       "    0 --> 5\n",
       "\t1 --> 6\n",
       "\t2 --> 7\n",
       "\t3 --> 0\n",
       "\t4 --> 1\n",
       "\t5 --> 2\n",
       "\t6 --> 2\n",
       "\n",
       "</pre>\n",
       "</body>\n",
       "<script type=\"module\">\n",
       "import mermaid from 'https://cdn.jsdelivr.net/npm/mermaid@11/dist/mermaid.esm.min.mjs';\n",
       "</script>\n",
       "</html>\n"
      ],
      "text/plain": [
       "<IPython.core.display.HTML object>"
      ]
     },
     "execution_count": 3,
     "metadata": {},
     "output_type": "execute_result"
    }
   ],
   "source": [
    "from IPython.display import HTML\n",
    "chain.to_mermaid()"
   ]
  },
  {
   "cell_type": "markdown",
   "metadata": {},
   "source": [
    "A class diagram is probably more approprate if your variables are dataframe:"
   ]
  },
  {
   "cell_type": "code",
   "execution_count": 4,
   "metadata": {},
   "outputs": [
    {
     "data": {
      "text/html": [
       "\n",
       "<pre class=\"mermaid\">\n",
       "classDiagram\n",
       "namespace BaseShapes {\n",
       "    class Triangle\n",
       "    class Rectangle {\n",
       "      double width\n",
       "      double height\n",
       "    }\n",
       "}\n",
       "</pre>\n",
       "<script type=\"module\">\n",
       "import mermaid from 'https://cdn.jsdelivr.net/npm/mermaid@11/dist/mermaid.esm.min.mjs';\n",
       "</script>\n"
      ],
      "text/plain": [
       "<IPython.core.display.HTML object>"
      ]
     },
     "metadata": {},
     "output_type": "display_data"
    }
   ],
   "source": [
    "display(HTML(\"\"\"\n",
    "<pre class=\"mermaid\">\n",
    "classDiagram\n",
    "namespace BaseShapes {\n",
    "    class Triangle\n",
    "    class Rectangle {\n",
    "      double width\n",
    "      double height\n",
    "    }\n",
    "}\n",
    "</pre>\n",
    "<script type=\"module\">\n",
    "import mermaid from 'https://cdn.jsdelivr.net/npm/mermaid@11/dist/mermaid.esm.min.mjs';\n",
    "</script>\n",
    "\"\"\"))"
   ]
  }
 ],
 "metadata": {
  "kernelspec": {
   "display_name": "fztools",
   "language": "python",
   "name": "python3"
  },
  "language_info": {
   "codemirror_mode": {
    "name": "ipython",
    "version": 3
   },
   "file_extension": ".py",
   "mimetype": "text/x-python",
   "name": "python",
   "nbconvert_exporter": "python",
   "pygments_lexer": "ipython3",
   "version": "3.13.2"
  }
 },
 "nbformat": 4,
 "nbformat_minor": 2
}
