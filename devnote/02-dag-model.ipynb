{
 "cells": [
  {
   "cell_type": "markdown",
   "metadata": {},
   "source": [
    "---\n",
    "title: \"Develop DAG for things;\"\n",
    "draft: true\n",
    "---"
   ]
  },
  {
   "cell_type": "code",
   "execution_count": 1,
   "metadata": {},
   "outputs": [
    {
     "data": {
      "text/html": [
       "<div>\n",
       "<style scoped>\n",
       "    .dataframe tbody tr th:only-of-type {\n",
       "        vertical-align: middle;\n",
       "    }\n",
       "\n",
       "    .dataframe tbody tr th {\n",
       "        vertical-align: top;\n",
       "    }\n",
       "\n",
       "    .dataframe thead th {\n",
       "        text-align: right;\n",
       "    }\n",
       "</style>\n",
       "<table border=\"1\" class=\"dataframe\">\n",
       "  <thead>\n",
       "    <tr style=\"text-align: right;\">\n",
       "      <th></th>\n",
       "      <th>source_id</th>\n",
       "      <th>source_ele</th>\n",
       "      <th>target_id</th>\n",
       "      <th>target_ele</th>\n",
       "    </tr>\n",
       "  </thead>\n",
       "  <tbody>\n",
       "    <tr>\n",
       "      <th>0</th>\n",
       "      <td>0</td>\n",
       "      <td>&lt;function plus_one at 0x108955ee0&gt;</td>\n",
       "      <td>0</td>\n",
       "      <td>A</td>\n",
       "    </tr>\n",
       "    <tr>\n",
       "      <th>1</th>\n",
       "      <td>0</td>\n",
       "      <td>&lt;function power_two at 0x108956520&gt;</td>\n",
       "      <td>0</td>\n",
       "      <td>B</td>\n",
       "    </tr>\n",
       "    <tr>\n",
       "      <th>2</th>\n",
       "      <td>1</td>\n",
       "      <td>&lt;function sum_all at 0x108956f20&gt;</td>\n",
       "      <td>1</td>\n",
       "      <td>C</td>\n",
       "    </tr>\n",
       "    <tr>\n",
       "      <th>0</th>\n",
       "      <td>-1</td>\n",
       "      <td>A</td>\n",
       "      <td>0</td>\n",
       "      <td>&lt;function plus_one at 0x108955ee0&gt;</td>\n",
       "    </tr>\n",
       "    <tr>\n",
       "      <th>1</th>\n",
       "      <td>-1</td>\n",
       "      <td>B</td>\n",
       "      <td>0</td>\n",
       "      <td>&lt;function power_two at 0x108956520&gt;</td>\n",
       "    </tr>\n",
       "    <tr>\n",
       "      <th>2</th>\n",
       "      <td>0</td>\n",
       "      <td>A</td>\n",
       "      <td>1</td>\n",
       "      <td>&lt;function sum_all at 0x108956f20&gt;</td>\n",
       "    </tr>\n",
       "    <tr>\n",
       "      <th>2</th>\n",
       "      <td>0</td>\n",
       "      <td>B</td>\n",
       "      <td>1</td>\n",
       "      <td>&lt;function sum_all at 0x108956f20&gt;</td>\n",
       "    </tr>\n",
       "  </tbody>\n",
       "</table>\n",
       "</div>"
      ],
      "text/plain": [
       "   source_id                           source_ele  target_id  \\\n",
       "0          0   <function plus_one at 0x108955ee0>          0   \n",
       "1          0  <function power_two at 0x108956520>          0   \n",
       "2          1    <function sum_all at 0x108956f20>          1   \n",
       "0         -1                                    A          0   \n",
       "1         -1                                    B          0   \n",
       "2          0                                    A          1   \n",
       "2          0                                    B          1   \n",
       "\n",
       "                            target_ele  \n",
       "0                                    A  \n",
       "1                                    B  \n",
       "2                                    C  \n",
       "0   <function plus_one at 0x108955ee0>  \n",
       "1  <function power_two at 0x108956520>  \n",
       "2    <function sum_all at 0x108956f20>  \n",
       "2    <function sum_all at 0x108956f20>  "
      ]
     },
     "execution_count": 1,
     "metadata": {},
     "output_type": "execute_result"
    }
   ],
   "source": [
    "from fztools import StageManager\n",
    "\n",
    "stage1 = StageManager(\"stage1\")\n",
    "stage2 = StageManager(\"stage2\")\n",
    "@stage1.register(\"A\")\n",
    "def plus_one(a):\n",
    "    return a + 1\n",
    "\n",
    "@stage1.register(\"B\")\n",
    "def power_two(b):\n",
    "    return b * b\n",
    "\n",
    "@stage2.register(\"C\", [\"A\", \"B\"])\n",
    "def sum_all(a, b):\n",
    "    return a + b\n",
    "\n",
    "\n",
    "chain = stage1 >> stage2\n",
    "chain.input = {\"A\": 1, \"B\": 2}\n",
    "chain.invoke()\n",
    "chain.output\n",
    "\n",
    "chain.edge_table\n"
   ]
  },
  {
   "cell_type": "code",
   "execution_count": 2,
   "metadata": {},
   "outputs": [
    {
     "data": {
      "text/html": [
       "<div>\n",
       "<style scoped>\n",
       "    .dataframe tbody tr th:only-of-type {\n",
       "        vertical-align: middle;\n",
       "    }\n",
       "\n",
       "    .dataframe tbody tr th {\n",
       "        vertical-align: top;\n",
       "    }\n",
       "\n",
       "    .dataframe thead th {\n",
       "        text-align: right;\n",
       "    }\n",
       "</style>\n",
       "<table border=\"1\" class=\"dataframe\">\n",
       "  <thead>\n",
       "    <tr style=\"text-align: right;\">\n",
       "      <th></th>\n",
       "      <th>stage_id</th>\n",
       "      <th>stage_name</th>\n",
       "      <th>output</th>\n",
       "      <th>prev_stage_id</th>\n",
       "      <th>inputs</th>\n",
       "      <th>func</th>\n",
       "    </tr>\n",
       "  </thead>\n",
       "  <tbody>\n",
       "    <tr>\n",
       "      <th>0</th>\n",
       "      <td>0</td>\n",
       "      <td>stage</td>\n",
       "      <td>A</td>\n",
       "      <td>-1</td>\n",
       "      <td>[A]</td>\n",
       "      <td>&lt;function plus_one at 0x108955ee0&gt;</td>\n",
       "    </tr>\n",
       "    <tr>\n",
       "      <th>1</th>\n",
       "      <td>0</td>\n",
       "      <td>stage</td>\n",
       "      <td>B</td>\n",
       "      <td>-1</td>\n",
       "      <td>[B]</td>\n",
       "      <td>&lt;function power_two at 0x108956520&gt;</td>\n",
       "    </tr>\n",
       "    <tr>\n",
       "      <th>2</th>\n",
       "      <td>1</td>\n",
       "      <td>stage</td>\n",
       "      <td>C</td>\n",
       "      <td>0</td>\n",
       "      <td>[A, B]</td>\n",
       "      <td>&lt;function sum_all at 0x108956f20&gt;</td>\n",
       "    </tr>\n",
       "  </tbody>\n",
       "</table>\n",
       "</div>"
      ],
      "text/plain": [
       "   stage_id stage_name output  prev_stage_id  inputs  \\\n",
       "0         0      stage      A             -1     [A]   \n",
       "1         0      stage      B             -1     [B]   \n",
       "2         1      stage      C              0  [A, B]   \n",
       "\n",
       "                                  func  \n",
       "0   <function plus_one at 0x108955ee0>  \n",
       "1  <function power_two at 0x108956520>  \n",
       "2    <function sum_all at 0x108956f20>  "
      ]
     },
     "execution_count": 2,
     "metadata": {},
     "output_type": "execute_result"
    }
   ],
   "source": [
    "chain.as_table()"
   ]
  },
  {
   "cell_type": "code",
   "execution_count": 3,
   "metadata": {},
   "outputs": [
    {
     "name": "stdout",
     "output_type": "stream",
     "text": [
      "{'A': <function plus_one at 0x108955ee0>, 'B': <function power_two at 0x108956520>}\n",
      "{'A': ['A'], 'B': ['B']}\n",
      "{'C': <function sum_all at 0x108956f20>}\n",
      "{'C': ['A', 'B']}\n"
     ]
    }
   ],
   "source": [
    "stgs = chain.stages\n",
    "for stg in stgs:\n",
    "    print(stg.funcs)\n",
    "    print(stg.funcs_args)"
   ]
  },
  {
   "cell_type": "markdown",
   "metadata": {},
   "source": [
    "There are a few problem with this method; both because variable without a function registered will pass on as it is...\n",
    "But from `as_table` we can attempt to parase assign type;"
   ]
  },
  {
   "cell_type": "code",
   "execution_count": 4,
   "metadata": {},
   "outputs": [
    {
     "name": "stdout",
     "output_type": "stream",
     "text": [
      "<class 'function'>\n",
      "<class 'function'>\n"
     ]
    },
    {
     "data": {
      "text/plain": [
       "{'A': 1, 'B': 4}"
      ]
     },
     "execution_count": 4,
     "metadata": {},
     "output_type": "execute_result"
    }
   ],
   "source": [
    "import asyncio\n",
    "def make_async_stage(stage):\n",
    "    funcs = stage.funcs\n",
    "    funcs_args = stage.funcs_args\n",
    "\n",
    "    async_stage_funcs = {}\n",
    "    for key, func in stage.funcs.items():\n",
    "        async def async_func(*args,**kwargs):\n",
    "            return func(*args,**kwargs)\n",
    "        async_stage_funcs[key] = async_func\n",
    "    return async_stage_funcs\n",
    "\n",
    "input_dict = {\"A\": 1, \"B\": 2}\n",
    "\n",
    "\n",
    "result = {}\n",
    "async_stage_funcs = make_async_stage(stage1)\n",
    "async with asyncio.TaskGroup() as tg:\n",
    "    for key, async_func in async_stage_funcs.items():\n",
    "        print(type(async_func))\n",
    "        arg = input_dict[key]\n",
    "        task = tg.create_task(async_func(arg))\n",
    "        d = await task\n",
    "        result[key] = d\n",
    "\n",
    "result\n"
   ]
  },
  {
   "cell_type": "markdown",
   "metadata": {},
   "source": [
    "Now the problem became, how to wrap an unevaulated expectation? (Future)"
   ]
  },
  {
   "cell_type": "code",
   "execution_count": 5,
   "metadata": {},
   "outputs": [
    {
     "name": "stdout",
     "output_type": "stream",
     "text": [
      "hello ...\n",
      "... world\n"
     ]
    }
   ],
   "source": [
    "from nest_asyncio import apply\n",
    "apply()\n",
    "async def set_after(fut, delay, value):\n",
    "    # Sleep for *delay* seconds.\n",
    "    await asyncio.sleep(delay)\n",
    "\n",
    "    # Set *value* as a result of *fut* Future.\n",
    "    fut.set_result(value)\n",
    "\n",
    "async def main():\n",
    "    # Get the current event loop.\n",
    "    loop = asyncio.get_running_loop()\n",
    "\n",
    "    # Create a new Future object.\n",
    "    fut = loop.create_future()\n",
    "\n",
    "    # Run \"set_after()\" coroutine in a parallel Task.\n",
    "    # We are using the low-level \"loop.create_task()\" API here because\n",
    "    # we already have a reference to the event loop at hand.\n",
    "    # Otherwise we could have just used \"asyncio.create_task()\".\n",
    "    loop.create_task(\n",
    "        set_after(fut, 1, '... world') )\n",
    "\n",
    "    print('hello ...')\n",
    "\n",
    "    # Wait until *fut* has a result (1 second) and print it.\n",
    "    print(await fut)\n",
    "    \n",
    "\n",
    "asyncio.run(main())"
   ]
  },
  {
   "cell_type": "markdown",
   "metadata": {},
   "source": [
    "Finally I have found a menimum example of establish coroutine based on something is done or not;\n",
    "This technical is essential dfs search all at the time;\n",
    "\n"
   ]
  },
  {
   "cell_type": "code",
   "execution_count": 6,
   "metadata": {},
   "outputs": [
    {
     "name": "stdout",
     "output_type": "stream",
     "text": [
      "Trying to execute task 1 ...\n",
      "Start of task 1 ...\n",
      "Trying to execute task 2 ...\n",
      "Trying to execute task 3 ...\n",
      "Trying to execute task 4 ...\n",
      "Trying to execute task 5 ...\n",
      "... End of task 1\n",
      "Start of task 2 ...\n",
      "Start of task 5 ...\n",
      "... End of task 2\n",
      "... End of task 5\n",
      "Start of task 3 ...\n",
      "... End of task 3\n",
      "Start of task 4 ...\n",
      "... End of task 4\n",
      "... Finished\n"
     ]
    }
   ],
   "source": [
    "\n",
    "from random import randrange\n",
    "# Helper function for the creation of simple sample coroutine\n",
    "def make_sample_coro(n):\n",
    "\n",
    "    async def coro():\n",
    "        print(f\"Start of task {n} ...\")\n",
    "        await asyncio.sleep(randrange(1, 5))\n",
    "        print(f\"... End of task {n}\")\n",
    "\n",
    "    return coro\n",
    "\n",
    "\n",
    "async def main():\n",
    "    # Simple graph in standard representation (node => neighbours)\n",
    "    graph = {1: {2, 5}, 2: {3}, 3: {4}, 4: set(), 5: {4}}\n",
    "    tasks = {n: make_sample_coro(n) for n in graph}\n",
    "    tasks_done = set()\n",
    "    \n",
    "    async def execute_task(ID):\n",
    "        print(f\"Trying to execute task {ID} ...\")\n",
    "        predecessors = {n for n, ns in graph.items() if ID in ns}\n",
    "        \n",
    "        while not predecessors <= tasks_done:  # Check if task can be started\n",
    "            await asyncio.sleep(0.1) # halt task before they are done;\n",
    "        await tasks[ID]()\n",
    "        tasks_done.add(ID)\n",
    "    \n",
    "    await asyncio.gather(*[execute_task(n) for n in graph])\n",
    "    print(\"... Finished\")\n",
    "await main()\n",
    "\n"
   ]
  },
  {
   "cell_type": "markdown",
   "metadata": {},
   "source": [
    "Note that this is not a chain; because each node are run at the same time, so actually you only need to search the dependency up one level!\n",
    "\n",
    "It does not explicitly identify the graphical root; The root 1 would not have a dependency;\n",
    "\n"
   ]
  },
  {
   "cell_type": "code",
   "execution_count": 7,
   "metadata": {},
   "outputs": [],
   "source": [
    "# to esplain the set operator;\n",
    "assert {1} <= {1,2,3}\n",
    "assert {1,2,3} <= {1,2,3}\n",
    "assert ({1,2,3,4} <= {1,2,3}) == False"
   ]
  },
  {
   "cell_type": "code",
   "execution_count": 8,
   "metadata": {},
   "outputs": [],
   "source": [
    "from fztools import StageManager\n",
    "\n",
    "stage1 = StageManager(name=\"stage1\")\n",
    "stage2 = StageManager(name=\"stage2\")\n",
    "\n",
    "input_dict = {\n",
    "    \"A\": 1,\n",
    "    \"B\": 2,\n",
    "}\n",
    "\n",
    "@stage1.register(\"A\")\n",
    "def plus_one(a):\n",
    "    return a + 1\n",
    "\n",
    "@stage1.register(\"B\")\n",
    "def power_two(b):\n",
    "    return b ** 2\n",
    "\n",
    "@stage2.register(\"C\", [\"A\", \"B\"])\n",
    "def sum_all(a, b):\n",
    "    return a + b\n",
    "chain = stage1 >> stage2"
   ]
  },
  {
   "cell_type": "code",
   "execution_count": 9,
   "metadata": {},
   "outputs": [
    {
     "data": {
      "text/plain": [
       "{(0, 'A'), (0, 'B'), (1, 'C')}"
      ]
     },
     "execution_count": 9,
     "metadata": {},
     "output_type": "execute_result"
    }
   ],
   "source": [
    "complete_ns = set()\n",
    "for i, stage in enumerate(chain.stages):\n",
    "    for func in stage.funcs:\n",
    "        complete_ns.add((i, func))\n",
    "\n",
    "complete_ns\n",
    "\n"
   ]
  },
  {
   "cell_type": "code",
   "execution_count": 10,
   "metadata": {},
   "outputs": [
    {
     "data": {
      "text/html": [
       "\n",
       "<!doctype html>\n",
       "<html>\n",
       "\n",
       "<body>\n",
       "<pre class=\"mermaid\">\n",
       "    \n",
       "flowchart LR\n",
       "    subgraph fbdd2ea5-6dde-4b25-83b4-a875a8f2bebb [\"stage1\"]\n",
       "\t0[/\"plus_one\"/]\n",
       "\t1[/\"power_two\"/]\n",
       "\t5[/\"A\"/]\n",
       "\t6[/\"B\"/]\n",
       "\tend\n",
       "\tsubgraph 1bff0ac0-bf2e-4fdc-9b0d-d229a711cda2 [\"stage2\"]\n",
       "\t2[/\"sum_all\"/]\n",
       "\t7[/\"C\"/]\n",
       "\tend\n",
       "\tsubgraph 88001b99-515a-4284-8ffb-0fed09da74fd [\"input\"]\n",
       "\t3[/\"A\"/]\n",
       "\t4[/\"B\"/]\n",
       "\tend\n",
       "    0 --> 5\n",
       "\t1 --> 6\n",
       "\t2 --> 7\n",
       "\t3 --> 0\n",
       "\t4 --> 1\n",
       "\t5 --> 2\n",
       "\t6 --> 2\n",
       "\n",
       "</pre>\n",
       "</body>\n",
       "<script type=\"module\">\n",
       "import mermaid from 'https://cdn.jsdelivr.net/npm/mermaid@11/dist/mermaid.esm.min.mjs';\n",
       "</script>\n",
       "</html>\n"
      ],
      "text/plain": [
       "<IPython.core.display.HTML object>"
      ]
     },
     "execution_count": 10,
     "metadata": {},
     "output_type": "execute_result"
    }
   ],
   "source": [
    "chain.to_mermaid()"
   ]
  }
 ],
 "metadata": {
  "kernelspec": {
   "display_name": "fztools",
   "language": "python",
   "name": "python3"
  },
  "language_info": {
   "codemirror_mode": {
    "name": "ipython",
    "version": 3
   },
   "file_extension": ".py",
   "mimetype": "text/x-python",
   "name": "python",
   "nbconvert_exporter": "python",
   "pygments_lexer": "ipython3",
   "version": "3.13.2"
  }
 },
 "nbformat": 4,
 "nbformat_minor": 2
}
